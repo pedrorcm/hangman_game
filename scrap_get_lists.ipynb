{
 "cells": [
  {
   "cell_type": "code",
   "execution_count": 1,
   "metadata": {},
   "outputs": [],
   "source": [
    "from bs4 import BeautifulSoup\n",
    "import requests\n",
    "from unicodedata import normalize"
   ]
  },
  {
   "cell_type": "code",
   "execution_count": 76,
   "metadata": {},
   "outputs": [],
   "source": [
    "page = requests.get('https://www.todamateria.com.br/frutas/')\n",
    "soup = BeautifulSoup(page.text, 'html.parser')"
   ]
  },
  {
   "cell_type": "code",
   "execution_count": null,
   "metadata": {},
   "outputs": [],
   "source": [
    "#place in fruits = 'h3'\n",
    "#place in animals = 'li'\n",
    "#It changes from one website to another, based on how the webpage was written"
   ]
  },
  {
   "cell_type": "code",
   "execution_count": 77,
   "metadata": {},
   "outputs": [],
   "source": [
    "#Function to remove accentuation (leaves Ç)\n",
    "def wash(soup, place):\n",
    "  all_elements = []\n",
    "\n",
    "  for name in soup(place):\n",
    "    name = str(name)\n",
    "    washed = normalize('NFKD', name).encode('ascii', 'ignore').decode('ascii')\n",
    "    all_elements.append(washed)\n",
    "  return all_elements\n"
   ]
  },
  {
   "cell_type": "code",
   "execution_count": 78,
   "metadata": {},
   "outputs": [],
   "source": [
    "#Calls the function above\n",
    "all_fruits = wash(soup, 'h3')"
   ]
  },
  {
   "cell_type": "code",
   "execution_count": 81,
   "metadata": {},
   "outputs": [
    {
     "data": {
      "text/plain": [
       "['<h3>1. Abacate (<em>Persea americana</em>)</h3>',\n",
       " '<h3>2. Abacaxi (<em>Ananas comosus</em>)</h3>',\n",
       " '<h3>3. Acai (<em>Euterpe oleracea</em>)</h3>',\n",
       " '<h3>4. Acerola (<em>Malpighia emarginata</em>)</h3>',\n",
       " '<h3>5. Amora (<em>Morus alba</em>)</h3>',\n",
       " '<h3>6. Araticum (<em>Annona coriacea</em>)</h3>',\n",
       " '<h3>7. Bacaba (<em>Oenocarpus bacaba</em>)</h3>',\n",
       " '<h3>8. Banana (<em>Musa sp.</em>)</h3>',\n",
       " '<h3>9. Biriba (<em>Rollinia mucosa</em>)</h3>',\n",
       " '<h3>10. Cacau (<em>Theobroma cacao</em>)</h3>',\n",
       " '<h3>11. Caja (<em>Spondias mombin</em>)</h3>',\n",
       " '<h3>12. Caqui (<em>Diospyros kaki</em>)</h3>',\n",
       " '<h3>13. Carambola (<em>Averrhoa carambola</em>)</h3>',\n",
       " '<h3>14. Cereja (<em>Prunus avium</em>)</h3>',\n",
       " '<h3>15. Cidra (<em>Citrus medica</em>)</h3>',\n",
       " '<h3>16. Coco (<em>Cocos nucifera L.</em>)</h3>',\n",
       " '<h3>17. Cupuacu (<em>Theobroma grandiflorum</em>)</h3>',\n",
       " '<h3>18. Figo (<em>Ficus carica L.</em>)</h3>',\n",
       " '<h3>19. Framboesa (<em>Rubus idaeus</em>)</h3>',\n",
       " '<h3>20. Goiaba (<em>Psidium guayava</em>)</h3>',\n",
       " '<h3>21. Groselha (<em>Ribes rubrum</em>)</h3>',\n",
       " '<h3>22. Inga (<em>Inga edulis</em>)</h3>',\n",
       " '<h3>23. Jabuticaba (<em>Myrciaria cauliflora</em>)</h3>',\n",
       " '<h3>24. Jaca (<em>Artocarpus heterophyllus</em>)</h3>',\n",
       " '<h3>25. Jambo (<em>Syzygium jambos</em>)</h3>',\n",
       " '<h3>26. Jenipapo (<em>Genipa americana L.</em>)</h3>',\n",
       " '<h3>27. Kiwi (<em>Actinidia deliciosa</em>)</h3>',\n",
       " '<h3>28. Laranja (<em>Citrus sinensis</em>)</h3>',\n",
       " '<h3>29. Limao (<em>Citrus limon</em>)</h3>',\n",
       " '<h3>30. Maca (<em>Malus domestica</em>)</h3>',\n",
       " '<h3>31. Mamao (<em>Carica papaya</em>)</h3>',\n",
       " '<h3>32. Manga (<em>Mangifera indica</em>)</h3>',\n",
       " '<h3>33. Mangaba (<em>Hancornia speciosa</em>)</h3>',\n",
       " '<h3>34. Maracuja (<em>Passiflora edulis</em>)</h3>',\n",
       " '<h3>35. Melancia (<em>Citrullus lanatus</em>)</h3>',\n",
       " '<h3>36. Melao (<em>Cucumis melo</em>)</h3>',\n",
       " '<h3>37. Morango (<em>Fragaria vesca</em>)</h3>',\n",
       " '<h3>38. Pequi (<em>Caryocar brasiliense</em>)</h3>',\n",
       " '<h3>39. Pera (<em>Pyrus communis</em>)</h3>',\n",
       " '<h3>40. Pessego (<em>Prunus persica</em>)</h3>',\n",
       " '<h3>41. Pitanga (<em>Eugenia uniflora</em>)</h3>',\n",
       " '<h3>42. Pitaya (<em>Hylocereus guatemalensis</em>)</h3>',\n",
       " '<h3>43. Pupunha (<em>Bactris gasipaes</em>)</h3>',\n",
       " '<h3>44. Roma (<em>Punica granatum L.</em>)</h3>',\n",
       " '<h3>45. Siriguela (<em>Spondias purpurea</em>)</h3>',\n",
       " '<h3>46. Tamara (<em>Phoenix dactylifera</em>)</h3>',\n",
       " '<h3>47. Tamarindo (<em>Tamarindus indica</em>)</h3>',\n",
       " '<h3>48. Tangerina (<em>Citrus reticulata</em>)</h3>',\n",
       " '<h3>49. Tucuma (<em>Astrocaryum aculeatum</em>)</h3>',\n",
       " '<h3>50. Uva verde (<em>Vitis sp.</em>)</h3>']"
      ]
     },
     "execution_count": 81,
     "metadata": {},
     "output_type": "execute_result"
    }
   ],
   "source": [
    "all_fruits"
   ]
  },
  {
   "cell_type": "code",
   "execution_count": 82,
   "metadata": {},
   "outputs": [],
   "source": [
    "#Creates a list for all fruits and slices the string to select the desired part\n",
    "basket=[]\n",
    "for a in all_fruits:\n",
    "  name_start, name_end = a.find(' '), a.find('(')\n",
    "  name_treated = a[name_start:name_end].strip()\n",
    "  basket.append(name_treated)"
   ]
  },
  {
   "cell_type": "code",
   "execution_count": 83,
   "metadata": {},
   "outputs": [
    {
     "data": {
      "text/plain": [
       "['Abacate',\n",
       " 'Abacaxi',\n",
       " 'Acai',\n",
       " 'Acerola',\n",
       " 'Amora',\n",
       " 'Araticum',\n",
       " 'Bacaba',\n",
       " 'Banana',\n",
       " 'Biriba',\n",
       " 'Cacau',\n",
       " 'Caja',\n",
       " 'Caqui',\n",
       " 'Carambola',\n",
       " 'Cereja',\n",
       " 'Cidra',\n",
       " 'Coco',\n",
       " 'Cupuacu',\n",
       " 'Figo',\n",
       " 'Framboesa',\n",
       " 'Goiaba',\n",
       " 'Groselha',\n",
       " 'Inga',\n",
       " 'Jabuticaba',\n",
       " 'Jaca',\n",
       " 'Jambo',\n",
       " 'Jenipapo',\n",
       " 'Kiwi',\n",
       " 'Laranja',\n",
       " 'Limao',\n",
       " 'Maca',\n",
       " 'Mamao',\n",
       " 'Manga',\n",
       " 'Mangaba',\n",
       " 'Maracuja',\n",
       " 'Melancia',\n",
       " 'Melao',\n",
       " 'Morango',\n",
       " 'Pequi',\n",
       " 'Pera',\n",
       " 'Pessego',\n",
       " 'Pitanga',\n",
       " 'Pitaya',\n",
       " 'Pupunha',\n",
       " 'Roma',\n",
       " 'Siriguela',\n",
       " 'Tamara',\n",
       " 'Tamarindo',\n",
       " 'Tangerina',\n",
       " 'Tucuma',\n",
       " 'Uva verde']"
      ]
     },
     "execution_count": 83,
     "metadata": {},
     "output_type": "execute_result"
    }
   ],
   "source": [
    "basket"
   ]
  },
  {
   "cell_type": "code",
   "execution_count": 2,
   "metadata": {},
   "outputs": [],
   "source": [
    "page2 = requests.get('https://www.dicionariodenomesproprios.com.br/nomes-populares-comuns-no-brasil/')\n",
    "soup2 = BeautifulSoup(page2.text, 'html.parser')"
   ]
  },
  {
   "cell_type": "code",
   "execution_count": null,
   "metadata": {},
   "outputs": [],
   "source": [
    "#Exploring the website (can be done by right-clicking - Inspect element on browser)\n",
    "for any in soup2('h3'):\n",
    "  print(any)"
   ]
  },
  {
   "cell_type": "code",
   "execution_count": 5,
   "metadata": {},
   "outputs": [],
   "source": [
    "ppl= wash(soup2, 'h3')"
   ]
  },
  {
   "cell_type": "code",
   "execution_count": null,
   "metadata": {},
   "outputs": [],
   "source": [
    "ppl[2]"
   ]
  },
  {
   "cell_type": "code",
   "execution_count": 58,
   "metadata": {},
   "outputs": [],
   "source": [
    "#This function will help us to separe the 'residual trash' - things that arent supposed to be on our list. Isnt always needed (Fruits was a clean list)\n",
    "def verify_name_valid(name_treated, list_to_add):\n",
    "  if len(name_treated) > 11:\n",
    "    pass\n",
    "  else:\n",
    "    list_to_add.append(name_treated)\n",
    "  return list_to_add"
   ]
  },
  {
   "cell_type": "code",
   "execution_count": 59,
   "metadata": {},
   "outputs": [],
   "source": [
    "#As the part where you will find the list can change, the method to cleand the names WILL change. You have to manually (knowing the format of the website)\n",
    "#That's the same code from the sixth cell, just changing the list name.\n",
    "people=[]\n",
    "\n",
    "for a in ppl:\n",
    "  name_start, name_end = a.find('>'), a.find('</')\n",
    "  name_treated = a[name_start+1:name_end].strip()\n",
    "  verify_name_valid(name_treated, people)\n"
   ]
  },
  {
   "cell_type": "code",
   "execution_count": 61,
   "metadata": {},
   "outputs": [
    {
     "data": {
      "text/plain": [
       "['Adriana',\n",
       " 'Ana',\n",
       " 'Maria',\n",
       " 'Sandra',\n",
       " 'Juliana',\n",
       " 'Helena',\n",
       " 'Madalena',\n",
       " 'Antonio',\n",
       " 'Carlos',\n",
       " 'Francisco',\n",
       " 'Joao',\n",
       " 'Jose',\n",
       " 'Afonso',\n",
       " 'Lourenco',\n",
       " 'Bruna',\n",
       " 'Camila',\n",
       " 'Jessica',\n",
       " 'Leticia',\n",
       " 'Amanda',\n",
       " 'Betina',\n",
       " 'Lucas',\n",
       " 'Mateus',\n",
       " 'Guilherme',\n",
       " 'Pedro',\n",
       " 'Helena',\n",
       " 'Heloisa',\n",
       " 'Maite',\n",
       " 'Elisa',\n",
       " 'Lorena',\n",
       " 'Alice',\n",
       " 'Isabella',\n",
       " 'Julia',\n",
       " 'Sophia',\n",
       " 'Laura',\n",
       " 'Valentina',\n",
       " 'Olivia',\n",
       " 'Cecilia',\n",
       " 'Beatriz',\n",
       " 'Manuela',\n",
       " 'Luiza',\n",
       " 'Greta',\n",
       " 'Heitor',\n",
       " 'Samuel',\n",
       " 'Noah',\n",
       " 'Pedro',\n",
       " 'Ravi',\n",
       " 'Lorenzo',\n",
       " 'Benicio',\n",
       " 'Isaac',\n",
       " 'Arthur',\n",
       " 'Miguel',\n",
       " 'Davi',\n",
       " 'Gabriel',\n",
       " 'Bernardo',\n",
       " 'Nicolas',\n",
       " 'Gael',\n",
       " 'Valentim',\n",
       " 'Benjamim',\n",
       " 'Santiago',\n",
       " 'Enzo',\n",
       " 'Teo',\n",
       " 'Ben']"
      ]
     },
     "execution_count": 61,
     "metadata": {},
     "output_type": "execute_result"
    }
   ],
   "source": [
    "people"
   ]
  },
  {
   "cell_type": "code",
   "execution_count": 64,
   "metadata": {},
   "outputs": [],
   "source": [
    "file = open('fruit_list.txt', 'a')\n",
    "\n",
    "for p in basket:\n",
    "  file.write((f'{str(p)}\\n'))\n",
    "\n",
    "file.close()"
   ]
  }
 ],
 "metadata": {
  "interpreter": {
   "hash": "ac59ebe37160ed0dfa835113d9b8498d9f09ceb179beaac4002f036b9467c963"
  },
  "kernelspec": {
   "display_name": "Python 3.9.6 64-bit",
   "language": "python",
   "name": "python3"
  },
  "language_info": {
   "codemirror_mode": {
    "name": "ipython",
    "version": 3
   },
   "file_extension": ".py",
   "mimetype": "text/x-python",
   "name": "python",
   "nbconvert_exporter": "python",
   "pygments_lexer": "ipython3",
   "version": "3.9.6"
  },
  "orig_nbformat": 4
 },
 "nbformat": 4,
 "nbformat_minor": 2
}
